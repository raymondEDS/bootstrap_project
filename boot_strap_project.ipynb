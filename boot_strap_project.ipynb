{
 "cells": [
  {
   "cell_type": "code",
   "execution_count": 39,
   "id": "a5e1cb74",
   "metadata": {},
   "outputs": [],
   "source": [
    "import itertools\n",
    "import sklearn\n",
    "import pandas as pd\n",
    "import json\n",
    "import numpy as np\n",
    "import ast\n",
    "from tqdm.auto import tqdm\n",
    "import statistics\n",
    "import math\n",
    "import csv\n",
    "from sklearn.neighbors import NearestNeighbors\n",
    "from sklearn.neighbors import NearestCentroid\n",
    "from sklearn.cluster import AgglomerativeClustering\n",
    "from sklearn.linear_model import LogisticRegression\n",
    "from sklearn.pipeline import Pipeline\n",
    "from sklearn.model_selection import GridSearchCV, StratifiedKFold, StratifiedShuffleSplit\n",
    "from sklearn.calibration import calibration_curve\n",
    "from sklearn.manifold import TSNE\n",
    "from copy import deepcopy\n",
    "import pprint\n",
    "import ast\n",
    "import statistics\n",
    "import math\n",
    "import time\n",
    "from sklearn.metrics import (\n",
    "    f1_score,\n",
    "    accuracy_score,\n",
    "    mean_squared_error,\n",
    "    r2_score,\n",
    "    roc_auc_score,\n",
    "    average_precision_score,\n",
    ")\n",
    "import matplotlib.pyplot as plt\n",
    "from nltk import agreement\n",
    "import scipy.stats as stats\n",
    "import seaborn as sns\n",
    "np.random.seed(1)\n",
    "\n",
    "tqdm.pandas()"
   ]
  },
  {
   "cell_type": "markdown",
   "id": "a5ee1680",
   "metadata": {},
   "source": [
    "# Lambda Functions"
   ]
  },
  {
   "cell_type": "code",
   "execution_count": 230,
   "id": "fb10f108",
   "metadata": {},
   "outputs": [],
   "source": [
    "embedding_path = 'df_embeddings.csv'\n",
    "submission_path = 'df_submission_rating.csv'\n",
    "\n",
    "\n",
    "df_embeddings = pd.read_csv(embedding_path)\n",
    "df_embeddings = df_embeddings.T\n",
    "df_embeddings.columns=df_embeddings.iloc[0]\n",
    "df_embeddings = df_embeddings.iloc[1: , :]\n",
    "\n",
    "\n",
    "tqdm.pandas()\n",
    "def get_numpy (row):\n",
    "  return ast.literal_eval(row.embedding)\n",
    "\n",
    "df_embeddings['embedding'] = df_embeddings.apply(lambda x: get_numpy(x), axis =1)\n",
    "\n",
    "df_submissions = pd.read_csv(submission_path)\n",
    "df_submission_labels = df_submissions[['id','title','conf_year','keywords','AVG_rating']]\n",
    "\n",
    "df_embeddings_2017 = df_embeddings.merge(df_submission_labels[df_submission_labels['conf_year']==2017], left_on='paper_id',right_on='id')\n",
    "df_embeddings_2018 = df_embeddings.merge(df_submission_labels[df_submission_labels['conf_year']==2018], left_on='paper_id',right_on='id')\n",
    "assert df_submission_labels[df_submission_labels['conf_year']==2017].shape[0] == df_embeddings_2017.shape[0]"
   ]
  },
  {
   "cell_type": "code",
   "execution_count": 211,
   "id": "31f33b26",
   "metadata": {},
   "outputs": [],
   "source": [
    "def lambda_get_2018_matches(row, dict_agg_cluster_matches):\n",
    "    #get embedding matches from 2018 papers\n",
    "    #returning relevant information\n",
    "    df_clustered_papers = dict_agg_cluster_matches[row.agg_cluster]\n",
    "    \n",
    "    lst_paper_titles = df_clustered_papers[0].title.tolist()\n",
    "    lst_paper_ids = df_clustered_papers[0].paper_id.tolist()\n",
    "    ls_paper_keywords = df_clustered_papers[0].keywords.values.tolist()\n",
    "    ls_cos_distances = df_clustered_papers[1]\n",
    "    \n",
    "    return lst_paper_titles, ls_paper_keywords, lst_paper_ids, ls_cos_distances\n",
    "def get_num_knn_matches(row):\n",
    "    count = len(row.titles_2018)\n",
    "    return(len(row.titles_2018))\n",
    "\n",
    "def lambda_get_match_potential_outcomes(row):\n",
    "    #equation 7 in the paper\n",
    "    paper_ids = row.id_2018\n",
    "    big_m = len(row.id_2018)\n",
    "    if big_m == 0:\n",
    "        return None\n",
    "    ratings = [df_embeddings_2018[df_embeddings_2018['paper_id'] == paper_id].AVG_rating.values[0] for paper_id in paper_ids]\n",
    "    return sum(ratings)/big_m\n"
   ]
  },
  {
   "cell_type": "code",
   "execution_count": 239,
   "id": "02b185ef",
   "metadata": {},
   "outputs": [],
   "source": [
    "def KNN_matching(df_control,df_treat):\n",
    "    \n",
    "    tuning_param_knn = 10\n",
    "    #tuning_param_cos_dist = 0.234535\n",
    "    tuning_param_cos_dist = 1000\n",
    "\n",
    "\n",
    "\n",
    "    x = np.array(df_control.embedding.tolist())\n",
    "    clustering = AgglomerativeClustering(n_clusters=None, distance_threshold=0.1, linkage=\"average\", metric = 'cosine').fit(x)\n",
    "\n",
    "    df_control['agg_cluster'] = clustering.labels_.tolist()\n",
    "\n",
    "\n",
    "    neigh = NearestNeighbors( n_neighbors=tuning_param_knn, metric = 'cosine', radius = 0.3)\n",
    "    non_anchor_embedding_2018 = np.array(df_treat.embedding.to_list())\n",
    "    neigh.fit(non_anchor_embedding_2018)\n",
    "\n",
    "    #setting up closest centroid for anchor group 2017\n",
    "    anchor_embedding_2017 = np.array(df_control.embedding.tolist())\n",
    "    anchor_agg_clusters_2017 = np.array(df_control.agg_cluster.tolist())\n",
    "    clf = NearestCentroid()\n",
    "    clf.fit(anchor_embedding_2017, anchor_agg_clusters_2017)\n",
    "\n",
    "\n",
    "    #dictionary of all the agg clusters and the 20 KNN from 2018\n",
    "    dict_agg_cluster_matches ={}\n",
    "    for cluster_id in np.unique(clustering.labels_):\n",
    "\n",
    "        distances, indices = neigh.kneighbors([clf.centroids_[cluster_id]])\n",
    "        df_anchor_embedding = pd.concat([pd.DataFrame(data = distances.T,columns =['cos_dist']),pd.DataFrame(indices.T,columns=['indices'])],axis=1)\n",
    "\n",
    "        #get all the specified cosine distance 2018 papers\n",
    "        #tuple of (dataframe of 2018 matched papers, cosine distances)\n",
    "        dict_agg_cluster_matches[cluster_id] = (\n",
    "            df_treat.iloc[df_anchor_embedding[df_anchor_embedding['cos_dist']<= tuning_param_cos_dist].indices.to_list(), :],\n",
    "            df_anchor_embedding[df_anchor_embedding['cos_dist']<= tuning_param_cos_dist].cos_dist.to_list()\n",
    "        )\n",
    "\n",
    "\n",
    "\n",
    "    df_control[['titles_2018','keywords_2018','id_2018','cos_dist_2018']]= df_control.apply(lambda x: lambda_get_2018_matches(x, dict_agg_cluster_matches),axis=1, result_type ='expand')\n",
    "    #df_control['titles_2018']= df_control.apply(lambda x: lambda_get_2018_matches(x, dict_agg_cluster_matches),axis=1)\n",
    "\n",
    "    df_control['num_knn_matches'] = df_control.apply(lambda x: get_num_knn_matches(x),axis =1)\n",
    "\n",
    "\n",
    "    #Matching potential outcome estimator\n",
    "    #Keith et al. 2020\n",
    "    #https://aclanthology.org/2020.acl-main.474.pdf\n",
    "    #equation 7 and 8\n",
    "    df_control['match_ave_rating'] = df_control.apply(lambda row: lambda_get_match_potential_outcomes(row), axis =1)\n",
    "    df_control['diff_2018_2017'] = df_control['match_ave_rating'] - df_control['AVG_rating']\n",
    "\n",
    "    df_control = df_control.loc[df_control['match_ave_rating'].notnull(),]\n",
    "\n",
    "    #equation 8 in the paper\n",
    "    ATT = (df_control['match_ave_rating'] - df_control['AVG_rating']).sum()/df_control.shape[0]\n",
    "    \n",
    "\n",
    "    STD = ((df_control['match_ave_rating'] - df_control['AVG_rating'])).std()\n",
    "    \n",
    "    return ATT, STD\n"
   ]
  },
  {
   "cell_type": "markdown",
   "id": "6a03241b",
   "metadata": {},
   "source": [
    "# Standard bootstrap estimator - Wrong according to https://www.jstor.org/stable/40056514"
   ]
  },
  {
   "cell_type": "code",
   "execution_count": 123,
   "id": "ac4a9584",
   "metadata": {},
   "outputs": [
    {
     "name": "stderr",
     "output_type": "stream",
     "text": [
      "100%|████████████████████████████████████████| 100/100 [4:16:40<00:00, 154.00s/it]\n"
     ]
    },
    {
     "data": {
      "image/png": "[encoded data removed]",
      "text/plain": [
       "<Figure size 640x480 with 1 Axes>"
      ]
     },
     "metadata": {},
     "output_type": "display_data"
    }
   ],
   "source": [
    "S = 100\n",
    "B = 100\n",
    "\n",
    "boot_SE = []\n",
    "for i in tqdm(range(S)):\n",
    "    \n",
    "    B_ATT = []\n",
    "    B_STD = []\n",
    "    for i in range(B):\n",
    "        boot_2017 = df_embeddings_2017.sample(n=df_embeddings_2017.shape[0], replace=True)\n",
    "        boot_2018 = df_embeddings_2018.sample(n=df_embeddings_2018.shape[0], replace=True)\n",
    "\n",
    "        ATT, STD = KNN_matching(boot_2017,boot_2018)\n",
    "        B_ATT.append(ATT)\n",
    "        B_STD.append(STD)\n",
    "    \n",
    "    mean_B_ATT = np.mean(B_ATT)\n",
    "\n",
    "    holder_list = []\n",
    "    for b in B_ATT:\n",
    "        holder_list.append((b-mean_B_ATT)**2)\n",
    "\n",
    "    SE = np.sqrt((1/(len(B_ATT)-1)) * sum(holder_list))\n",
    "    \n",
    "    boot_SE.append(SE)\n",
    "    \n",
    "    \n",
    "plt.hist(boot_SE)\n",
    "\n",
    "pd.DataFrame(boot_SE).to_csv('sample_se_failed')"
   ]
  },
  {
   "cell_type": "code",
   "execution_count": 124,
   "id": "f04225c4",
   "metadata": {},
   "outputs": [
    {
     "data": {
      "image/png": "[encoded data removed]",
      "text/plain": [
       "<Figure size 640x480 with 1 Axes>"
      ]
     },
     "metadata": {},
     "output_type": "display_data"
    }
   ],
   "source": [
    "plt.hist(boot_SE)\n",
    "\n",
    "pd.DataFrame(boot_SE).to_csv('sample_se_failed2')"
   ]
  },
  {
   "cell_type": "code",
   "execution_count": 136,
   "id": "7cc9e1fc",
   "metadata": {},
   "outputs": [
    {
     "data": {
      "text/plain": [
       "<matplotlib.lines.Line2D at 0x29c179240>"
      ]
     },
     "execution_count": 136,
     "metadata": {},
     "output_type": "execute_result"
    },
    {
     "data": {
      "image/png": "[encoded data removed]",
      "text/plain": [
       "<Figure size 640x480 with 1 Axes>"
      ]
     },
     "metadata": {},
     "output_type": "display_data"
    }
   ],
   "source": [
    "plt.hist(boot_SE)\n",
    "plt.title(\"SE distribution of standard bootstrap\")\n",
    "plt.axvline(np.mean(boot_SE),color=\"black\")\n"
   ]
  },
  {
   "cell_type": "code",
   "execution_count": 127,
   "id": "1d4f0e68",
   "metadata": {},
   "outputs": [
    {
     "data": {
      "text/plain": [
       "0.08101030713727107"
      ]
     },
     "execution_count": 127,
     "metadata": {},
     "output_type": "execute_result"
    }
   ],
   "source": [
    "np.mean(boot_SE)"
   ]
  },
  {
   "cell_type": "markdown",
   "id": "73b6aeb5",
   "metadata": {},
   "source": [
    "# Block bootstrap on estimated individual causal effects\n",
    "\n",
    "We implement the block bootstrap based on https://docs.iza.org/dp5361.pdf\n",
    "\n",
    "We had to do the following: \n",
    "1) Make TSNE representation of the word embedding reducing dimensions from 756 to 1\n",
    "2) created blocks based on strata\n",
    "3) Ran KNN matching with replacement to calculate the EICE\n",
    "4) Ran the blocked bootstrap procedure"
   ]
  },
  {
   "cell_type": "code",
   "execution_count": 232,
   "id": "2e26be75",
   "metadata": {},
   "outputs": [],
   "source": [
    "tuning_param_knn = 10\n",
    "tuning_param_cos_dist = 0.234535\n",
    "\n",
    "\n",
    "#5 strata https://www.ncbi.nlm.nih.gov/pmc/articles/PMC5949912/\n",
    "#get the blocks\n",
    "x = np.array(df_embeddings_2017.embedding.to_list())\n",
    "df_embeddings_2017[['TSNE']] = TSNE(n_components=1, learning_rate='auto',init='random').fit_transform(x)\n",
    "df_embeddings_2017['block'] = pd.qcut(df_embeddings_2017['TSNE'], q=5, labels = [1,2,3,4,5])\n",
    "\n",
    "df_control = df_embeddings_2017\n",
    "df_treat = df_embeddings_2018\n",
    "\n",
    "\n",
    "\n",
    "x = np.array(df_control.embedding.tolist())\n",
    "clustering = AgglomerativeClustering(n_clusters=None, distance_threshold=0.1, linkage=\"average\", metric = 'cosine').fit(x)\n",
    "\n",
    "df_control['agg_cluster'] = clustering.labels_.tolist()\n",
    "\n",
    "\n",
    "neigh = NearestNeighbors( n_neighbors=tuning_param_knn, metric = 'cosine', radius = 0.3)\n",
    "non_anchor_embedding_2018 = np.array(df_treat.embedding.to_list())\n",
    "neigh.fit(non_anchor_embedding_2018)\n",
    "\n",
    "#setting up closest centroid for anchor group 2017\n",
    "anchor_embedding_2017 = np.array(df_control.embedding.tolist())\n",
    "anchor_agg_clusters_2017 = np.array(df_control.agg_cluster.tolist())\n",
    "clf = NearestCentroid()\n",
    "clf.fit(anchor_embedding_2017, anchor_agg_clusters_2017)\n",
    "\n",
    "\n",
    "#dictionary of all the agg clusters and the 20 KNN from 2018\n",
    "dict_agg_cluster_matches ={}\n",
    "for cluster_id in np.unique(clustering.labels_):\n",
    "\n",
    "    distances, indices = neigh.kneighbors([clf.centroids_[cluster_id]])\n",
    "    df_anchor_embedding = pd.concat([pd.DataFrame(data = distances.T,columns =['cos_dist']),pd.DataFrame(indices.T,columns=['indices'])],axis=1)\n",
    "\n",
    "    #get all the specified cosine distance 2018 papers\n",
    "    #tuple of (dataframe of 2018 matched papers, cosine distances)\n",
    "    dict_agg_cluster_matches[cluster_id] = (\n",
    "        df_treat.iloc[df_anchor_embedding[df_anchor_embedding['cos_dist']<= tuning_param_cos_dist].indices.to_list(), :],\n",
    "        df_anchor_embedding[df_anchor_embedding['cos_dist']<= tuning_param_cos_dist].cos_dist.to_list()\n",
    "    )\n",
    "\n",
    "\n",
    "\n",
    "df_control[['titles_2018','keywords_2018','id_2018','cos_dist_2018']]= df_control.apply(lambda x: lambda_get_2018_matches(x, dict_agg_cluster_matches),axis=1, result_type ='expand')\n",
    "\n",
    "\n",
    "df_control['num_knn_matches'] = df_control.apply(lambda x: get_num_knn_matches(x),axis =1)\n",
    "\n",
    "\n",
    "#Matching potential outcome estimator\n",
    "#Keith et al. 2020\n",
    "#https://aclanthology.org/2020.acl-main.474.pdf\n",
    "#equation 7 and 8\n",
    "df_control['match_ave_rating'] = df_control.apply(lambda row: lambda_get_match_potential_outcomes(row), axis =1)\n",
    "df_control['diff_2018_2017'] = df_control['match_ave_rating'] - df_control['AVG_rating']\n",
    "\n",
    "df_control = df_control.loc[df_control['match_ave_rating'].notnull(),]"
   ]
  },
  {
   "cell_type": "code",
   "execution_count": 59,
   "id": "b20bbb24",
   "metadata": {},
   "outputs": [],
   "source": [
    "def create_bootstrapped_df(df, blocks):\n",
    "    \"\"\"\n",
    "    Create \"Block\" Bootstrapped DataFrame given a vector of blocks\n",
    "\n",
    "    \"\"\"\n",
    "    bootstrapped = []\n",
    "    for block in blocks:\n",
    "        block_df = df.loc[df.block == block]\n",
    "        bootstrapped.append(block_df)\n",
    "    bootstrapped_sample = pd.concat(bootstrapped)\n",
    "    bootstrapped_sample.reset_index(drop=True, inplace=True)\n",
    "    return bootstrapped_sample"
   ]
  },
  {
   "cell_type": "code",
   "execution_count": 131,
   "id": "d4b2e242",
   "metadata": {},
   "outputs": [
    {
     "name": "stderr",
     "output_type": "stream",
     "text": [
      "100%|███████████████████████████████████████████| 100/100 [00:13<00:00,  7.16it/s]\n"
     ]
    }
   ],
   "source": [
    "B = 100\n",
    "S = 100\n",
    "\n",
    "S_list = []\n",
    "\n",
    "for s in tqdm(range(S)):\n",
    "    block_boot_att = []\n",
    "\n",
    "    for b in range(B):\n",
    "        blocks = df_control.block.unique()\n",
    "        block_bootstrap_sample = np.random.choice(blocks, size=blocks.size, replace=True)\n",
    "        df = create_bootstrapped_df(df_control,block_bootstrap_sample)\n",
    "        ATT = (df['match_ave_rating'] - df['AVG_rating']).sum()/df.shape[0]\n",
    "        block_boot_att.append(ATT)\n",
    "\n",
    "\n",
    "    mean_B_ATT = np.mean(block_boot_att)\n",
    "\n",
    "    holder_list = []\n",
    "    for b in block_boot_att:\n",
    "        holder_list.append((b-mean_B_ATT)**2)\n",
    "\n",
    "    #SE = np.sqrt((1/(B-1)) * sum(holder_list))\n",
    "    \n",
    "    SE = np.sqrt((1/(len(block_boot_att)-1)) * sum(holder_list))\n",
    "    \n",
    "    \n",
    "    S_list.append(SE)"
   ]
  },
  {
   "cell_type": "code",
   "execution_count": 134,
   "id": "37c1c188",
   "metadata": {},
   "outputs": [
    {
     "data": {
      "text/plain": [
       "Text(0.5, 1.0, 'SE distribution of block bootstrap')"
      ]
     },
     "execution_count": 134,
     "metadata": {},
     "output_type": "execute_result"
    },
    {
     "data": {
      "image/png": "[encoded data removed]",
      "text/plain": [
       "<Figure size 640x480 with 1 Axes>"
      ]
     },
     "metadata": {},
     "output_type": "display_data"
    }
   ],
   "source": [
    "plt.hist(S_list)\n",
    "plt.axvline(np.mean(S_list),color=\"black\")\n",
    "plt.title(\"SE distribution of block bootstrap\")"
   ]
  },
  {
   "cell_type": "code",
   "execution_count": 135,
   "id": "30b0d4d5",
   "metadata": {},
   "outputs": [
    {
     "data": {
      "text/plain": [
       "0.050860832310870824"
      ]
     },
     "execution_count": 135,
     "metadata": {},
     "output_type": "execute_result"
    }
   ],
   "source": [
    "np.mean(S_list)"
   ]
  },
  {
   "cell_type": "code",
   "execution_count": 137,
   "id": "9e3a62bd",
   "metadata": {},
   "outputs": [
    {
     "data": {
      "image/png": "[encoded data removed]",
      "text/plain": [
       "<Figure size 640x480 with 1 Axes>"
      ]
     },
     "metadata": {},
     "output_type": "display_data"
    }
   ],
   "source": [
    "from matplotlib import pyplot\n",
    "\n",
    "pyplot.hist(boot_SE, alpha=0.5, label='Normal Bootstrap')\n",
    "pyplot.hist(S_list, alpha=0.5, label='Block Bootstrap')\n",
    "pyplot.legend(loc='upper right')\n",
    "pyplot.show()"
   ]
  },
  {
   "cell_type": "markdown",
   "id": "48ff6771",
   "metadata": {},
   "source": [
    "# Simulation"
   ]
  },
  {
   "cell_type": "code",
   "execution_count": 254,
   "id": "8c46699f",
   "metadata": {},
   "outputs": [],
   "source": [
    "X_size = len(df_control.embedding[0])\n",
    "#X_size = 1\n",
    "\n",
    "X_0 = np.random.multivariate_normal([0]*X_size,np.eye(X_size), size = 490)\n",
    "X_1 = np.random.multivariate_normal([0]*X_size,np.eye(X_size), size = 910)"
   ]
  },
  {
   "cell_type": "code",
   "execution_count": 255,
   "id": "520dbc41",
   "metadata": {},
   "outputs": [],
   "source": [
    "Y_0 = X_0.mean(axis=1)\n",
    "\n",
    "Y_1 = -1 + X_1.mean(axis=1)"
   ]
  },
  {
   "cell_type": "code",
   "execution_count": 256,
   "id": "9f53c828",
   "metadata": {},
   "outputs": [],
   "source": [
    "df_sim_control = df_embeddings_2017\n",
    "df_sim_treated = df_embeddings_2018\n",
    "\n",
    "df_sim_control['embedding'] = pd.DataFrame([X_0.tolist()]).melt()[['value']]\n",
    "df_sim_control['AVG_rating'] = Y_0\n",
    "\n",
    "df_sim_treated['embedding'] = pd.DataFrame([X_1.tolist()]).melt()[['value']]\n",
    "df_sim_treated['AVG_rating'] = Y_1"
   ]
  },
  {
   "cell_type": "code",
   "execution_count": 269,
   "id": "3b9f9bff",
   "metadata": {},
   "outputs": [
    {
     "name": "stderr",
     "output_type": "stream",
     "text": [
      "100%|█████████████████████████████████████████████| 100/100 [10:00<00:00,  6.01s/it]\n"
     ]
    },
    {
     "data": {
      "text/plain": [
       "(array([ 4.,  6., 12., 22., 20., 19.,  6.,  7.,  2.,  2.]),\n",
       " array([0.05591783, 0.07312733, 0.09033683, 0.10754633, 0.12475583,\n",
       "        0.14196533, 0.15917483, 0.17638433, 0.19359383, 0.21080333,\n",
       "        0.22801282]),\n",
       " <BarContainer object of 10 artists>)"
      ]
     },
     "execution_count": 269,
     "metadata": {},
     "output_type": "execute_result"
    },
    {
     "data": {
      "image/png": "[encoded data removed]",
      "text/plain": [
       "<Figure size 640x480 with 1 Axes>"
      ]
     },
     "metadata": {},
     "output_type": "display_data"
    }
   ],
   "source": [
    "S = 100\n",
    "B = 10\n",
    "\n",
    "sim_boot_SE1 = []\n",
    "for i in tqdm(range(S)):\n",
    "    \n",
    "    B_ATT = []\n",
    "    B_STD = []\n",
    "    for i in range(B):\n",
    "        boot_2017 = df_sim_control.sample(n=df_sim_control.shape[0], replace=True)\n",
    "        boot_2018 = df_sim_treated.sample(n=df_sim_treated.shape[0], replace=True)\n",
    "\n",
    "        ATT, STD = KNN_matching(boot_2017,boot_2018)\n",
    "        B_ATT.append(ATT)\n",
    "        B_STD.append(STD)\n",
    "    \n",
    "    mean_B_ATT = np.mean(B_ATT)\n",
    "\n",
    "    holder_list = []\n",
    "    for b in B_ATT:\n",
    "        holder_list.append((b-mean_B_ATT)**2)\n",
    "\n",
    "    SE = np.sqrt((1/(len(B_ATT)-1)) * sum(holder_list))\n",
    "    \n",
    "    sim_boot_SE1.append(SE)\n",
    "    \n",
    "    \n",
    "plt.hist(sim_boot_SE1)"
   ]
  },
  {
   "cell_type": "code",
   "execution_count": 283,
   "id": "823f82b2",
   "metadata": {},
   "outputs": [],
   "source": [
    "tuning_param_knn = 10\n",
    "#tuning_param_cos_dist = 0.234535\n",
    "tuning_param_cos_dist = 1000\n",
    "\n",
    "#5 strata https://www.ncbi.nlm.nih.gov/pmc/articles/PMC5949912/\n",
    "#get the blocks\n",
    "x = np.array(df_sim_control.embedding.to_list())\n",
    "df_sim_control[['TSNE']] = TSNE(n_components=1, learning_rate='auto',init='random').fit_transform(x)\n",
    "df_sim_control['block'] = pd.qcut(df_sim_control['TSNE'], q=5, labels = [1,2,3,4,5])\n",
    "\n",
    "df_control = df_sim_control\n",
    "df_treat = df_sim_treated\n",
    "\n",
    "\n",
    "\n",
    "x = np.array(df_control.embedding.tolist())\n",
    "clustering = AgglomerativeClustering(n_clusters=None, distance_threshold=0.1, linkage=\"average\", metric = 'cosine').fit(x)\n",
    "\n",
    "df_control['agg_cluster'] = clustering.labels_.tolist()\n",
    "\n",
    "\n",
    "neigh = NearestNeighbors( n_neighbors=tuning_param_knn, metric = 'cosine', radius = 0.3)\n",
    "non_anchor_embedding_2018 = np.array(df_treat.embedding.to_list())\n",
    "neigh.fit(non_anchor_embedding_2018)\n",
    "\n",
    "#setting up closest centroid for anchor group 2017\n",
    "anchor_embedding_2017 = np.array(df_control.embedding.tolist())\n",
    "anchor_agg_clusters_2017 = np.array(df_control.agg_cluster.tolist())\n",
    "clf = NearestCentroid()\n",
    "clf.fit(anchor_embedding_2017, anchor_agg_clusters_2017)\n",
    "\n",
    "\n",
    "#dictionary of all the agg clusters and the 20 KNN from 2018\n",
    "dict_agg_cluster_matches ={}\n",
    "for cluster_id in np.unique(clustering.labels_):\n",
    "\n",
    "    distances, indices = neigh.kneighbors([clf.centroids_[cluster_id]])\n",
    "    df_anchor_embedding = pd.concat([pd.DataFrame(data = distances.T,columns =['cos_dist']),pd.DataFrame(indices.T,columns=['indices'])],axis=1)\n",
    "\n",
    "    #get all the specified cosine distance 2018 papers\n",
    "    #tuple of (dataframe of 2018 matched papers, cosine distances)\n",
    "    dict_agg_cluster_matches[cluster_id] = (\n",
    "        df_treat.iloc[df_anchor_embedding[df_anchor_embedding['cos_dist']<= tuning_param_cos_dist].indices.to_list(), :],\n",
    "        df_anchor_embedding[df_anchor_embedding['cos_dist']<= tuning_param_cos_dist].cos_dist.to_list()\n",
    "    )\n",
    "\n",
    "\n",
    "\n",
    "df_control[['titles_2018','keywords_2018','id_2018','cos_dist_2018']]= df_control.apply(lambda x: lambda_get_2018_matches(x, dict_agg_cluster_matches),axis=1, result_type ='expand')\n",
    "\n",
    "\n",
    "df_control['num_knn_matches'] = df_control.apply(lambda x: get_num_knn_matches(x),axis =1)\n",
    "\n",
    "\n",
    "#Matching potential outcome estimator\n",
    "#Keith et al. 2020\n",
    "#https://aclanthology.org/2020.acl-main.474.pdf\n",
    "#equation 7 and 8\n",
    "df_control['match_ave_rating'] = df_control.apply(lambda row: lambda_get_match_potential_outcomes(row), axis =1)\n",
    "df_control['diff_2018_2017'] = df_control['match_ave_rating'] - df_control['AVG_rating']\n",
    "\n",
    "df_control = df_control.loc[df_control['match_ave_rating'].notnull(),]"
   ]
  },
  {
   "cell_type": "code",
   "execution_count": 284,
   "id": "6e990242",
   "metadata": {},
   "outputs": [
    {
     "name": "stderr",
     "output_type": "stream",
     "text": [
      "100%|█████████████████████████████████████████████| 100/100 [00:01<00:00, 69.75it/s]\n"
     ]
    }
   ],
   "source": [
    "B = 10\n",
    "S = 100\n",
    "\n",
    "S_list = []\n",
    "\n",
    "for s in tqdm(range(S)):\n",
    "    block_boot_att = []\n",
    "\n",
    "    for b in range(B):\n",
    "        blocks = df_control.block.unique()\n",
    "        block_bootstrap_sample = np.random.choice(blocks, size=blocks.size, replace=True)\n",
    "        df = create_bootstrapped_df(df_control,block_bootstrap_sample)\n",
    "        ATT = (df['match_ave_rating'] - df['AVG_rating']).sum()/df.shape[0]\n",
    "        block_boot_att.append(ATT)\n",
    "\n",
    "\n",
    "    mean_B_ATT = np.mean(block_boot_att)\n",
    "\n",
    "    holder_list = []\n",
    "    for b in block_boot_att:\n",
    "        holder_list.append((b-mean_B_ATT)**2)\n",
    "\n",
    "    #SE = np.sqrt((1/(B-1)) * sum(holder_list))\n",
    "    \n",
    "    SE = np.sqrt((1/(len(block_boot_att)-1)) * sum(holder_list))\n",
    "    \n",
    "    \n",
    "    S_list.append(SE)"
   ]
  },
  {
   "cell_type": "code",
   "execution_count": 285,
   "id": "10192971",
   "metadata": {},
   "outputs": [
    {
     "data": {
      "text/plain": [
       "(array([ 2.,  3.,  7., 18., 10., 25., 17.,  9.,  5.,  4.]),\n",
       " array([0.09372915, 0.11450794, 0.13528674, 0.15606553, 0.17684433,\n",
       "        0.19762312, 0.21840191, 0.23918071, 0.2599595 , 0.28073829,\n",
       "        0.30151709]),\n",
       " <BarContainer object of 10 artists>)"
      ]
     },
     "execution_count": 285,
     "metadata": {},
     "output_type": "execute_result"
    },
    {
     "data": {
      "image/png": "[encoded data removed]",
      "text/plain": [
       "<Figure size 640x480 with 1 Axes>"
      ]
     },
     "metadata": {},
     "output_type": "display_data"
    }
   ],
   "source": [
    "plt.hist(S_list)"
   ]
  },
  {
   "cell_type": "code",
   "execution_count": 287,
   "id": "21762a12",
   "metadata": {},
   "outputs": [
    {
     "data": {
      "image/png": "[encoded data removed]",
      "text/plain": [
       "<Figure size 640x480 with 1 Axes>"
      ]
     },
     "metadata": {},
     "output_type": "display_data"
    }
   ],
   "source": [
    "pyplot.hist(sim_boot_SE1, alpha=0.5, label='Simulated Normal Bootstrap')\n",
    "pyplot.hist(S_list, alpha=0.5, label='Simulated Block Bootstrap')\n",
    "pyplot.legend(loc='upper right')\n",
    "pyplot.title(\"SE distribution of block bootstrap\")\n",
    "plt.axvline(np.mean(sim_boot_SE1),color=\"blue\", alpha=0.2)\n",
    "plt.axvline(np.mean(S_list),color=\"red\", alpha=0.5)\n",
    "pyplot.show()"
   ]
  },
  {
   "cell_type": "code",
   "execution_count": null,
   "id": "27d21c86",
   "metadata": {},
   "outputs": [],
   "source": []
  }
 ],
 "metadata": {
  "kernelspec": {
   "display_name": "Python 3 (ipykernel)",
   "language": "python",
   "name": "python3"
  },
  "language_info": {
   "codemirror_mode": {
    "name": "ipython",
    "version": 3
   },
   "file_extension": ".py",
   "mimetype": "text/x-python",
   "name": "python",
   "nbconvert_exporter": "python",
   "pygments_lexer": "ipython3",
   "version": "3.10.4"
  }
 },
 "nbformat": 4,
 "nbformat_minor": 5
}
